{
  "cells": [
    {
      "attachments": {},
      "cell_type": "markdown",
      "metadata": {},
      "source": [
        "# Emotion Detection from YouTube videos using `fer`"
      ]
    },
    {
      "attachments": {},
      "cell_type": "markdown",
      "metadata": {
        "id": "jdLPlb1tRb7X"
      },
      "source": [
        "## Helper functions"
      ]
    },
    {
      "cell_type": "code",
      "execution_count": null,
      "metadata": {
        "id": "rR0i7OrsRgBG"
      },
      "outputs": [],
      "source": [
        "def cut_video(video,fr,to):\n",
        "  video_edit = VideoFileClip(video).subclip(fr,to)\n",
        "  video_edit.write_videofile('temp/temp_video_edit.mp4',preset='ultrafast',audio=False)\n",
        "  return 'temp/temp_video_edit.mp4'\n",
        "\n",
        "def frame_frequency(vf,total_frames=400):\n",
        "  cap=cv2.VideoCapture(vf)\n",
        "  fps = cap.get(cv2.CAP_PROP_FPS)\n",
        "  frame_count = int(cap.get(cv2.CAP_PROP_FRAME_COUNT))\n",
        "  duration = frame_count/fps\n",
        "  print('fps = ' + str(fps))\n",
        "  print('number of frames = ' + str(frame_count))\n",
        "  print('duration (S) = ' + str(duration))\n",
        "  freq = math.floor(frame_count/(total_frames))\n",
        "  return freq\n",
        "\n",
        "def detect_emotions(vf,i, mode='freq',freq=50):\n",
        "  video = Video(vf)\n",
        "  video.first_face_only = False\n",
        "  if mode=='freq':\n",
        "    raw_data = video.analyze(detector, display=False, frequency = freq, save_video = False, annotate_frames = True, zip_images = True)\n",
        "    tdf = video.to_pandas(raw_data)\n",
        "    tdf.to_csv('../data-clean/%s-f%s.csv' %(i, str(freq)))\n",
        "    os.system('cp output/images.zip ../output/%s-f%s.zip' %(i,str(freq)))\n",
        "  else:\n",
        "    ff = frame_frequency(vf,total_frames=freq)\n",
        "    raw_data = video.analyze(detector, display=False, frequency = ff, save_video = False, annotate_frames = True, zip_images = True)\n",
        "    tdf = video.to_pandas(raw_data)\n",
        "    tdf.to_csv('../data-clean/%s-t%s.csv' %(i, str(freq)))\n",
        "    os.system('cp output/images.zip ../output/%s-t%s.zip' %(i,str(freq)))\n",
        "  return tdf\n",
        "\n",
        "def process_vid(csv,i, mode = 'freq', freq = 50):\n",
        "  yt = YouTube(csv['url'][i])\n",
        "  yt_vid = yt.streams.filter(progressive=True, file_extension='mp4').order_by('resolution').desc().first()\n",
        "  yt_vid.download('temp/')\n",
        "  src = os.listdir('temp/')[0]\n",
        "  os.rename('temp/'+src,'temp/temp_video.mp4')\n",
        "  print(\"File renamed!\")\n",
        "  videofile = 'temp/temp_video.mp4'\n",
        "  if (csv['crop'][i] == 'yes'):\n",
        "    videofile = cut_video(videofile,fr=csv[\"start\"][i],to=csv[\"end\"][i])\n",
        "  return detect_emotions(videofile,i,mode,freq)\n",
        "  \n"
      ]
    },
    {
      "attachments": {},
      "cell_type": "markdown",
      "metadata": {
        "id": "-IycHN7FXpoi"
      },
      "source": [
        "## Setup"
      ]
    },
    {
      "cell_type": "code",
      "execution_count": null,
      "metadata": {
        "colab": {
          "base_uri": "https://localhost:8080/"
        },
        "id": "sXnDmXR7RDr2",
        "outputId": "3c2d39ef-3f10-4a92-d6e8-15e82c1e6e4d"
      },
      "outputs": [],
      "source": [
        "# install requirements\n",
        "!pip install -q fer\n",
        "!pip install imageio==2.4.1\n",
        "!pip install -q pytube\n",
        "# import libraries\n",
        "import tensorflow as tf\n",
        "from pytube import YouTube\n",
        "import os\n",
        "from fer import Video\n",
        "from fer import FER\n",
        "import matplotlib.pyplot as plt\n",
        "import sys\n",
        "import pandas as pd\n",
        "import cv2\n",
        "import math\n",
        "import numpy as np\n",
        "from moviepy.editor import *\n",
        "# notebook setings\n",
        "%matplotlib inline\n",
        "from pylab import rcParams\n",
        "rcParams['figure.figsize'] = 10, 8\n",
        "\n",
        "detector = FER(mtcnn=True)\n"
      ]
    },
    {
      "attachments": {},
      "cell_type": "markdown",
      "metadata": {},
      "source": [
        "## Graphic card test"
      ]
    },
    {
      "cell_type": "code",
      "execution_count": null,
      "metadata": {},
      "outputs": [],
      "source": [
        "device_name = tf.test.gpu_device_name()\n",
        "if device_name != '/device:GPU:0':\n",
        "  raise SystemError('GPU device not found')\n",
        "print('Found GPU at: {}'.format(device_name))\n",
        "     "
      ]
    },
    {
      "cell_type": "markdown",
      "metadata": {
        "id": "RD_jtWvDEKrc"
      },
      "source": [
        "## Clear previous results\n",
        "\n",
        "---\n",
        "\n"
      ]
    },
    {
      "cell_type": "code",
      "execution_count": null,
      "metadata": {
        "id": "Be4RIG3hEWM-"
      },
      "outputs": [],
      "source": [
        "!rm -rf '../output/'\n",
        "!rm -rf 'temp/'"
      ]
    },
    {
      "cell_type": "markdown",
      "metadata": {
        "id": "zxZuykVaAl7P"
      },
      "source": [
        "\n",
        "# Analyze videos"
      ]
    },
    {
      "cell_type": "code",
      "execution_count": 5,
      "metadata": {},
      "outputs": [],
      "source": [
        "import pandas as pd\n",
        "import os"
      ]
    },
    {
      "cell_type": "code",
      "execution_count": 7,
      "metadata": {
        "id": "Fze8PkCIR4mf"
      },
      "outputs": [],
      "source": [
        "url_df = pd.read_csv('../data-raw/yt-urls.csv') \n",
        "os.mkdir('temp')\n",
        "n = len(url_df)"
      ]
    },
    {
      "cell_type": "code",
      "execution_count": null,
      "metadata": {
        "colab": {
          "base_uri": "https://localhost:8080/"
        },
        "id": "5ZfX0bMecrSw",
        "outputId": "3e8c110e-d11d-406c-fdb9-c679e0cf71b6"
      },
      "outputs": [],
      "source": [
        "# Main processing method\n",
        "# mode = 'total', total 300 frames\n",
        "\n",
        "print(\"Starting main processing\")\n",
        "print(\"Each video - 300 frames in total\")\n",
        "\n",
        "for k in range(n):\n",
        "  !rm -rf 'output/'\n",
        "  !rm -rf 'temp/'\n",
        "  print('Video number #%s \\n' %(k))\n",
        "  print('Url: %s' %(url_df['url'][k]))\n",
        "  temp = process_vid(url_df,k, mode = 'total', freq=300)\n",
        "  print('Video number #%s complete! Moving on ... \\n' %(k))\n"
      ]
    },
    {
      "cell_type": "code",
      "execution_count": null,
      "metadata": {
        "id": "mcwcE2JISHFZ"
      },
      "outputs": [],
      "source": [
        "# Alternative processing method\n",
        "# mode = 'freq', every 50th frame\n",
        "\n",
        "print(\"Starting alternative processing\")\n",
        "print(\"Each video - 300 frames in total\")\n",
        "\n",
        "for k in range(n):\n",
        "  !rm -rf 'output/'\n",
        "  !rm -rf 'temp/'\n",
        "  print('Video number #%s \\n' %(k))\n",
        "  print('Url: %s' %(url_df['url'][k]))\n",
        "  temp = process_vid(url_df,k, mode = 'freq', freq=50)\n",
        "  print('Video number #%s complete! Moving on ... \\n' %(k))\n"
      ]
    }
  ],
  "metadata": {
    "accelerator": "GPU",
    "colab": {
      "provenance": []
    },
    "kernelspec": {
      "display_name": "Python 3",
      "name": "python3"
    },
    "language_info": {
      "codemirror_mode": {
        "name": "ipython",
        "version": 3
      },
      "file_extension": ".py",
      "mimetype": "text/x-python",
      "name": "python",
      "nbconvert_exporter": "python",
      "pygments_lexer": "ipython3",
      "version": "3.10.6"
    }
  },
  "nbformat": 4,
  "nbformat_minor": 0
}
